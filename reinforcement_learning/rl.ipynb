{
 "cells": [
  {
   "cell_type": "markdown",
   "metadata": {},
   "source": [
    "# Reinforcement Learning\n",
    "This repository contains the implementation of Rainbow DQN.\n",
    "paper: [link](https://arxiv.org/pdf/1710.02298.pdf)"
   ]
  },
  {
   "cell_type": "markdown",
   "metadata": {},
   "source": [
    "# DQN\n",
    "## Vanilla DQN\n",
    "## Double DQN\n",
    "\n",
    "\n",
    "## Prioritized Experience Replay (PER)\n",
    "paper: [link](https://arxiv.org/pdf/1511.05952.pdf)\n",
    "\n",
    "### Main Idea\n",
    "1. Each transition in the replay memory is not equal, and we should not sample uniformly.\n",
    "2. New transitions get highest priority. After that, each transition is weighted by the TD error, meaning 'how surprise' the network is.\n",
    "3. Use segment tree to implement sampling.\n",
    "\n",
    "### Insights\n",
    "* **Prioritized Supervised Learning:** Sample non-uniformly from a dataset using a priority based on its last-seen error, similarly to boosting and hard negative mining.\n",
    "* **Off-policy Replay:** Two standard approaches to off-policy RL are rejection sampling and using importance sampling ratios $\\rho$ to correct for how likely a transition would have been on-policy.\n",
    "* **Feedback for Exploration:** We could generate more transitions that lead to useful learnings.\n",
    "\n",
    "## Dueling\n",
    "\n",
    "![Dueling Network Illustration](./notebook_imgs/dueling_network.png)\n",
    "\n",
    "paper: [link](https://arxiv.org/pdf/1511.06581.pdf)\n",
    "\n",
    "### Main Idea\n",
    "1. It's unecessary to estimate each action's value.\n",
    "2. Papers in 1993 had the idea of maintaining separate value and advantage functions, $V(s), A(s,a)$. Dueling architecture keeps two streams, and combine them to estimate $Q(s, A)$.\n",
    "3. By looking at $Q(s, A) = A(s, A) + V(s)$, we notice that it is *unidentifiable* because when we train the network, our truth is the reward, which is used to compare with $Q(s, A)$ to calculate the loss. Now $Q(s, A)$ is fixed, we have two streams to estimate $A$, $V$. We can subtract any amount from $A$ and add the same amount to $V$ and $Q$ won't change. This makes it unidentifiable and thus not stable. To fix this problem, we subtract the average of all $A(s, A)$. This is because we want $A$ function estimator to have zero advantage if act greedily. We want to subtract $max$, but average makes it more stable."
   ]
  },
  {
   "cell_type": "code",
   "execution_count": null,
   "metadata": {},
   "outputs": [],
   "source": []
  }
 ],
 "metadata": {
  "kernelspec": {
   "display_name": "Python 3.8.5 64-bit ('halite': conda)",
   "metadata": {
    "interpreter": {
     "hash": "5403c2f46487192050ca51a2569a732e9e397cd03869abc4ffc9610a65d22dfa"
    }
   },
   "name": "Python 3.8.5 64-bit ('halite': conda)"
  },
  "language_info": {
   "codemirror_mode": {
    "name": "ipython",
    "version": 3
   },
   "file_extension": ".py",
   "mimetype": "text/x-python",
   "name": "python",
   "nbconvert_exporter": "python",
   "pygments_lexer": "ipython3",
   "version": "3.8.5-final"
  },
  "orig_nbformat": 2
 },
 "nbformat": 4,
 "nbformat_minor": 2
}