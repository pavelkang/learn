{
 "cells": [
  {
   "cell_type": "markdown",
   "metadata": {},
   "source": [
    "# Reinforcement Learning\n"
   ]
  },
  {
   "cell_type": "markdown",
   "metadata": {},
   "source": [
    "# DQN\n",
    "1. Vanilla DQN\n",
    "2. Double DQN\n",
    "\n",
    "\n",
    "## Prioritized Experience Replay (PER)\n",
    "paper: [link](https://arxiv.org/pdf/1511.05952.pdf)\n",
    "\n",
    "### Main Idea\n",
    "1. Each transition in the replay memory is not equal, and we should not sample uniformly.\n",
    "2. New transitions get highest priority. After that, each transition is weighted by the TD error, meaning 'how surprise' the network is.\n",
    "3. Use segment tree to implement sampling.\n",
    "\n",
    "### Insights\n",
    "* **Prioritized Supervised Learning:** Sample non-uniformly from a dataset using a priority based on its last-seen error, similarly to boosting and hard negative mining.\n",
    "* **Off-policy Replay:** Two standard approaches to off-policy RL are rejection sampling and using importance sampling ratios $\\rho$ to correct for how likely a transition would have been on-policy.\n",
    "* **Feedback for Exploration:** We could generate more transitions that lead to useful learnings."
   ]
  },
  {
   "cell_type": "code",
   "execution_count": null,
   "metadata": {},
   "outputs": [],
   "source": []
  },
  {
   "cell_type": "code",
   "execution_count": null,
   "metadata": {},
   "outputs": [],
   "source": []
  }
 ],
 "metadata": {
  "kernelspec": {
   "display_name": "Python 3.8.5 64-bit ('halite': conda)",
   "metadata": {
    "interpreter": {
     "hash": "5403c2f46487192050ca51a2569a732e9e397cd03869abc4ffc9610a65d22dfa"
    }
   },
   "name": "Python 3.8.5 64-bit ('halite': conda)"
  },
  "language_info": {
   "codemirror_mode": {
    "name": "ipython",
    "version": 3
   },
   "file_extension": ".py",
   "mimetype": "text/x-python",
   "name": "python",
   "nbconvert_exporter": "python",
   "pygments_lexer": "ipython3",
   "version": "3.8.5-final"
  },
  "orig_nbformat": 2
 },
 "nbformat": 4,
 "nbformat_minor": 2
}