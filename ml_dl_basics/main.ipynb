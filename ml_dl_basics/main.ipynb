{
 "metadata": {
  "language_info": {
   "codemirror_mode": {
    "name": "ipython",
    "version": 3
   },
   "file_extension": ".py",
   "mimetype": "text/x-python",
   "name": "python",
   "nbconvert_exporter": "python",
   "pygments_lexer": "ipython3",
   "version": "3.8.5-final"
  },
  "orig_nbformat": 2,
  "kernelspec": {
   "name": "Python 3.8.5 64-bit",
   "display_name": "Python 3.8.5 64-bit",
   "metadata": {
    "interpreter": {
     "hash": "5403c2f46487192050ca51a2569a732e9e397cd03869abc4ffc9610a65d22dfa"
    }
   }
  }
 },
 "nbformat": 4,
 "nbformat_minor": 2,
 "cells": [
  {
   "source": [
    "# ML & DL Basics\n",
    "\n",
    "## Differentiable Sampling\n",
    "\n",
    "[Pytorch Categorical](https://pytorch.org/docs/stable/distributions.html)\n",
    "\n",
    "## Fundamentals\n",
    "\n",
    "### Why optimizing log probability, not probability?\n",
    "[Answer](https://stats.stackexchange.com/questions/174481/why-to-optimize-max-log-probability-instead-of-probability)"
   ],
   "cell_type": "markdown",
   "metadata": {}
  },
  {
   "cell_type": "code",
   "execution_count": null,
   "metadata": {},
   "outputs": [],
   "source": []
  }
 ]
}